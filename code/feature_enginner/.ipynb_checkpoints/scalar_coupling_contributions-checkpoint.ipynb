{
 "cells": [
  {
   "cell_type": "code",
   "execution_count": 1,
   "metadata": {},
   "outputs": [],
   "source": [
    "import numpy as np\n",
    "import pandas as pd\n",
    "\n",
    "'''\n",
    "scc_df : scalar_coupling_contribution_df\n",
    "fc : fermi contact contribution\n",
    "sd : spin-dipolar contribution\n",
    "pso: paramagnetic spin-orbit contribution\n",
    "dso: diamagnetic spin-orbit\n",
    "'''\n",
    "\n",
    "def get_scalar_coupling_contributions(scc_df):\n",
    "    four_contributions = scc_df[['fc','sd','pso','dso']]\n",
    "    \n",
    "    return four_contributions, ['fermi_contact','spin_dipolar','paramagnetic_spin-orbit','diamagnetic_spin-orbit']"
   ]
  }
 ],
 "metadata": {
  "kernelspec": {
   "display_name": "Python 3",
   "language": "python",
   "name": "python3"
  },
  "language_info": {
   "codemirror_mode": {
    "name": "ipython",
    "version": 3
   },
   "file_extension": ".py",
   "mimetype": "text/x-python",
   "name": "python",
   "nbconvert_exporter": "python",
   "pygments_lexer": "ipython3",
   "version": "3.7.0"
  }
 },
 "nbformat": 4,
 "nbformat_minor": 2
}
