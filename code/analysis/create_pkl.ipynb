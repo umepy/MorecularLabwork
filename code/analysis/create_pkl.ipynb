{
 "cells": [
  {
   "cell_type": "code",
   "execution_count": 1,
   "metadata": {},
   "outputs": [
    {
     "name": "stdout",
     "output_type": "stream",
     "text": [
      "['mulliken_charges.csv', 'test.csv', 'structures.csv', 'dipole_moments.csv', 'potential_energy.csv', 'train.csv', 'scalar_coupling_contributions.csv', 'magnetic_shielding_tensors.csv', 'sample_submission.csv']\n"
     ]
    }
   ],
   "source": [
    "# This Python 3 environment comes with many helpful analytics libraries installed\n",
    "# It is defined by the kaggle/python docker image: https://github.com/kaggle/docker-python\n",
    "# For example, here's several helpful packages to load in \n",
    "\n",
    "import numpy as np # linear algebra\n",
    "import pandas as pd # data processing, CSV file I/O (e.g. pd.read_csv)\n",
    "\n",
    "# Input data files are available in the \"../input/\" directory.\n",
    "# For example, running this (by clicking run or pressing Shift+Enter) will list the files in the input directory\n",
    "\n",
    "import os\n",
    "print(os.listdir(\"../input/\"))\n",
    "\n",
    "import matplotlib.pyplot as plt\n",
    "import pickle\n",
    "from tqdm import tqdm\n",
    "from multiprocessing import Process, Pipe\n",
    "import time\n",
    "# Any results you write to the current directory are saved as output.\n",
    "%matplotlib inline"
   ]
  },
  {
   "cell_type": "code",
   "execution_count": 4,
   "metadata": {},
   "outputs": [],
   "source": [
    "train_df = pd.read_csv('../input/train.csv')\n",
    "structure_df = pd.read_csv('../input/structures.csv')\n",
    "molecule_name = structure_df['molecule_name'].unique()\n",
    "type_name = train_df['type'].unique()"
   ]
  },
  {
   "cell_type": "code",
   "execution_count": 3,
   "metadata": {},
   "outputs": [],
   "source": [
    "jobs = 10"
   ]
  },
  {
   "cell_type": "markdown",
   "metadata": {},
   "source": [
    "calculate euclidean destance"
   ]
  },
  {
   "cell_type": "code",
   "execution_count": 11,
   "metadata": {},
   "outputs": [],
   "source": [
    "splitnum = len(train_df)//jobs+1\n",
    "def calc_distance(index, send):\n",
    "    data = train_df.values[index*splitnum:(index+1)*splitnum]\n",
    "    euclid_dist = np.zeros((len(data),1))\n",
    "    molecule = None\n",
    "    if index==0:\n",
    "        for i,row in tqdm(enumerate(data),total=len(data)):\n",
    "            if row[1] != molecule:\n",
    "                molecule = row[1]\n",
    "                molecule_data = structure_df[structure_df['molecule_name']==molecule]\n",
    "            euclid_dist[i,0] = np.linalg.norm(molecule_data.values[row[2],3:6]-molecule_data.values[row[3],3:6])\n",
    "    else:\n",
    "        for i,row in enumerate(data):\n",
    "            if row[1] != molecule:\n",
    "                molecule = row[1]\n",
    "                molecule_data = structure_df[structure_df['molecule_name']==molecule]\n",
    "            euclid_dist[i,0] = np.linalg.norm(molecule_data.values[row[2],3:6]-molecule_data.values[row[3],3:6])\n",
    "    send.send(euclid_dist)\n",
    "    send.close()"
   ]
  },
  {
   "cell_type": "code",
   "execution_count": 12,
   "metadata": {},
   "outputs": [
    {
     "name": "stderr",
     "output_type": "stream",
     "text": [
      "100%|██████████| 465815/465815 [19:29<00:00, 398.25it/s]  \n"
     ]
    }
   ],
   "source": [
    "p_jobs = []\n",
    "pipes = []\n",
    "for i in range(jobs):\n",
    "    get_rev, send_rev = Pipe()\n",
    "    p = Process(target=calc_distance, args=(i,send_rev))\n",
    "    pipes.append(get_rev)\n",
    "    p_jobs.append(p)\n",
    "    p.start()\n",
    "    \n",
    "result = [x.recv() for x in pipes]\n",
    "\n",
    "for p in p_jobs:\n",
    "    p.join()\n",
    "\n",
    "result = np.concatenate(result)"
   ]
  },
  {
   "cell_type": "code",
   "execution_count": 13,
   "metadata": {},
   "outputs": [],
   "source": [
    "pd.to_pickle(result, 'distance.pkl')"
   ]
  },
  {
   "cell_type": "markdown",
   "metadata": {},
   "source": [
    "calculate H number"
   ]
  },
  {
   "cell_type": "code",
   "execution_count": 9,
   "metadata": {},
   "outputs": [],
   "source": [
    "splitnum = len(molecule_name)//jobs+1\n",
    "def calc_h(index, send):\n",
    "    data = molecule_name[index*splitnum:(index+1)*splitnum]\n",
    "    h_count = np.zeros((len(data),1))\n",
    "    if index == 0:\n",
    "        for i,m in tqdm(enumerate(data),total=len(data)):\n",
    "            h_count[i,0] = np.where(structure_df[structure_df['molecule_name']==m]['atom'].values=='H')[0].shape[0]\n",
    "    else:\n",
    "        for i,m in enumerate(data):\n",
    "            h_count[i,0] = np.where(structure_df[structure_df['molecule_name']==m]['atom'].values=='H')[0].shape[0]\n",
    "    \n",
    "    send.send(calc_h)\n",
    "    send.close()"
   ]
  },
  {
   "cell_type": "code",
   "execution_count": 10,
   "metadata": {},
   "outputs": [
    {
     "name": "stderr",
     "output_type": "stream",
     "text": [
      "  0%|          | 30/13078 [00:03<25:06,  8.66it/s]"
     ]
    },
    {
     "ename": "KeyboardInterrupt",
     "evalue": "",
     "output_type": "error",
     "traceback": [
      "\u001b[0;31m---------------------------------------------------------------------------\u001b[0m",
      "\u001b[0;31mKeyboardInterrupt\u001b[0m                         Traceback (most recent call last)",
      "\u001b[0;32m<ipython-input-10-9d113dcf6809>\u001b[0m in \u001b[0;36m<module>\u001b[0;34m()\u001b[0m\n\u001b[1;32m      7\u001b[0m     \u001b[0mp_jobs\u001b[0m\u001b[0;34m.\u001b[0m\u001b[0mappend\u001b[0m\u001b[0;34m(\u001b[0m\u001b[0mp\u001b[0m\u001b[0;34m)\u001b[0m\u001b[0;34m\u001b[0m\u001b[0m\n\u001b[1;32m      8\u001b[0m     \u001b[0mp\u001b[0m\u001b[0;34m.\u001b[0m\u001b[0mstart\u001b[0m\u001b[0;34m(\u001b[0m\u001b[0;34m)\u001b[0m\u001b[0;34m\u001b[0m\u001b[0m\n\u001b[0;32m----> 9\u001b[0;31m \u001b[0mh_num\u001b[0m \u001b[0;34m=\u001b[0m \u001b[0;34m[\u001b[0m\u001b[0mx\u001b[0m\u001b[0;34m.\u001b[0m\u001b[0mrecv\u001b[0m\u001b[0;34m(\u001b[0m\u001b[0;34m)\u001b[0m \u001b[0;32mfor\u001b[0m \u001b[0mx\u001b[0m \u001b[0;32min\u001b[0m \u001b[0mpipes\u001b[0m\u001b[0;34m]\u001b[0m\u001b[0;34m\u001b[0m\u001b[0m\n\u001b[0m\u001b[1;32m     10\u001b[0m \u001b[0;34m\u001b[0m\u001b[0m\n\u001b[1;32m     11\u001b[0m \u001b[0;32mfor\u001b[0m \u001b[0mp\u001b[0m \u001b[0;32min\u001b[0m \u001b[0mp_jobs\u001b[0m\u001b[0;34m:\u001b[0m\u001b[0;34m\u001b[0m\u001b[0m\n",
      "\u001b[0;32m<ipython-input-10-9d113dcf6809>\u001b[0m in \u001b[0;36m<listcomp>\u001b[0;34m(.0)\u001b[0m\n\u001b[1;32m      7\u001b[0m     \u001b[0mp_jobs\u001b[0m\u001b[0;34m.\u001b[0m\u001b[0mappend\u001b[0m\u001b[0;34m(\u001b[0m\u001b[0mp\u001b[0m\u001b[0;34m)\u001b[0m\u001b[0;34m\u001b[0m\u001b[0m\n\u001b[1;32m      8\u001b[0m     \u001b[0mp\u001b[0m\u001b[0;34m.\u001b[0m\u001b[0mstart\u001b[0m\u001b[0;34m(\u001b[0m\u001b[0;34m)\u001b[0m\u001b[0;34m\u001b[0m\u001b[0m\n\u001b[0;32m----> 9\u001b[0;31m \u001b[0mh_num\u001b[0m \u001b[0;34m=\u001b[0m \u001b[0;34m[\u001b[0m\u001b[0mx\u001b[0m\u001b[0;34m.\u001b[0m\u001b[0mrecv\u001b[0m\u001b[0;34m(\u001b[0m\u001b[0;34m)\u001b[0m \u001b[0;32mfor\u001b[0m \u001b[0mx\u001b[0m \u001b[0;32min\u001b[0m \u001b[0mpipes\u001b[0m\u001b[0;34m]\u001b[0m\u001b[0;34m\u001b[0m\u001b[0m\n\u001b[0m\u001b[1;32m     10\u001b[0m \u001b[0;34m\u001b[0m\u001b[0m\n\u001b[1;32m     11\u001b[0m \u001b[0;32mfor\u001b[0m \u001b[0mp\u001b[0m \u001b[0;32min\u001b[0m \u001b[0mp_jobs\u001b[0m\u001b[0;34m:\u001b[0m\u001b[0;34m\u001b[0m\u001b[0m\n",
      "\u001b[0;32m~/.pyenv/versions/anaconda3-5.3.1/lib/python3.7/multiprocessing/connection.py\u001b[0m in \u001b[0;36mrecv\u001b[0;34m(self)\u001b[0m\n\u001b[1;32m    248\u001b[0m         \u001b[0mself\u001b[0m\u001b[0;34m.\u001b[0m\u001b[0m_check_closed\u001b[0m\u001b[0;34m(\u001b[0m\u001b[0;34m)\u001b[0m\u001b[0;34m\u001b[0m\u001b[0m\n\u001b[1;32m    249\u001b[0m         \u001b[0mself\u001b[0m\u001b[0;34m.\u001b[0m\u001b[0m_check_readable\u001b[0m\u001b[0;34m(\u001b[0m\u001b[0;34m)\u001b[0m\u001b[0;34m\u001b[0m\u001b[0m\n\u001b[0;32m--> 250\u001b[0;31m         \u001b[0mbuf\u001b[0m \u001b[0;34m=\u001b[0m \u001b[0mself\u001b[0m\u001b[0;34m.\u001b[0m\u001b[0m_recv_bytes\u001b[0m\u001b[0;34m(\u001b[0m\u001b[0;34m)\u001b[0m\u001b[0;34m\u001b[0m\u001b[0m\n\u001b[0m\u001b[1;32m    251\u001b[0m         \u001b[0;32mreturn\u001b[0m \u001b[0m_ForkingPickler\u001b[0m\u001b[0;34m.\u001b[0m\u001b[0mloads\u001b[0m\u001b[0;34m(\u001b[0m\u001b[0mbuf\u001b[0m\u001b[0;34m.\u001b[0m\u001b[0mgetbuffer\u001b[0m\u001b[0;34m(\u001b[0m\u001b[0;34m)\u001b[0m\u001b[0;34m)\u001b[0m\u001b[0;34m\u001b[0m\u001b[0m\n\u001b[1;32m    252\u001b[0m \u001b[0;34m\u001b[0m\u001b[0m\n",
      "\u001b[0;32m~/.pyenv/versions/anaconda3-5.3.1/lib/python3.7/multiprocessing/connection.py\u001b[0m in \u001b[0;36m_recv_bytes\u001b[0;34m(self, maxsize)\u001b[0m\n\u001b[1;32m    405\u001b[0m \u001b[0;34m\u001b[0m\u001b[0m\n\u001b[1;32m    406\u001b[0m     \u001b[0;32mdef\u001b[0m \u001b[0m_recv_bytes\u001b[0m\u001b[0;34m(\u001b[0m\u001b[0mself\u001b[0m\u001b[0;34m,\u001b[0m \u001b[0mmaxsize\u001b[0m\u001b[0;34m=\u001b[0m\u001b[0;32mNone\u001b[0m\u001b[0;34m)\u001b[0m\u001b[0;34m:\u001b[0m\u001b[0;34m\u001b[0m\u001b[0m\n\u001b[0;32m--> 407\u001b[0;31m         \u001b[0mbuf\u001b[0m \u001b[0;34m=\u001b[0m \u001b[0mself\u001b[0m\u001b[0;34m.\u001b[0m\u001b[0m_recv\u001b[0m\u001b[0;34m(\u001b[0m\u001b[0;36m4\u001b[0m\u001b[0;34m)\u001b[0m\u001b[0;34m\u001b[0m\u001b[0m\n\u001b[0m\u001b[1;32m    408\u001b[0m         \u001b[0msize\u001b[0m\u001b[0;34m,\u001b[0m \u001b[0;34m=\u001b[0m \u001b[0mstruct\u001b[0m\u001b[0;34m.\u001b[0m\u001b[0munpack\u001b[0m\u001b[0;34m(\u001b[0m\u001b[0;34m\"!i\"\u001b[0m\u001b[0;34m,\u001b[0m \u001b[0mbuf\u001b[0m\u001b[0;34m.\u001b[0m\u001b[0mgetvalue\u001b[0m\u001b[0;34m(\u001b[0m\u001b[0;34m)\u001b[0m\u001b[0;34m)\u001b[0m\u001b[0;34m\u001b[0m\u001b[0m\n\u001b[1;32m    409\u001b[0m         \u001b[0;32mif\u001b[0m \u001b[0mmaxsize\u001b[0m \u001b[0;32mis\u001b[0m \u001b[0;32mnot\u001b[0m \u001b[0;32mNone\u001b[0m \u001b[0;32mand\u001b[0m \u001b[0msize\u001b[0m \u001b[0;34m>\u001b[0m \u001b[0mmaxsize\u001b[0m\u001b[0;34m:\u001b[0m\u001b[0;34m\u001b[0m\u001b[0m\n",
      "\u001b[0;32m~/.pyenv/versions/anaconda3-5.3.1/lib/python3.7/multiprocessing/connection.py\u001b[0m in \u001b[0;36m_recv\u001b[0;34m(self, size, read)\u001b[0m\n\u001b[1;32m    377\u001b[0m         \u001b[0mremaining\u001b[0m \u001b[0;34m=\u001b[0m \u001b[0msize\u001b[0m\u001b[0;34m\u001b[0m\u001b[0m\n\u001b[1;32m    378\u001b[0m         \u001b[0;32mwhile\u001b[0m \u001b[0mremaining\u001b[0m \u001b[0;34m>\u001b[0m \u001b[0;36m0\u001b[0m\u001b[0;34m:\u001b[0m\u001b[0;34m\u001b[0m\u001b[0m\n\u001b[0;32m--> 379\u001b[0;31m             \u001b[0mchunk\u001b[0m \u001b[0;34m=\u001b[0m \u001b[0mread\u001b[0m\u001b[0;34m(\u001b[0m\u001b[0mhandle\u001b[0m\u001b[0;34m,\u001b[0m \u001b[0mremaining\u001b[0m\u001b[0;34m)\u001b[0m\u001b[0;34m\u001b[0m\u001b[0m\n\u001b[0m\u001b[1;32m    380\u001b[0m             \u001b[0mn\u001b[0m \u001b[0;34m=\u001b[0m \u001b[0mlen\u001b[0m\u001b[0;34m(\u001b[0m\u001b[0mchunk\u001b[0m\u001b[0;34m)\u001b[0m\u001b[0;34m\u001b[0m\u001b[0m\n\u001b[1;32m    381\u001b[0m             \u001b[0;32mif\u001b[0m \u001b[0mn\u001b[0m \u001b[0;34m==\u001b[0m \u001b[0;36m0\u001b[0m\u001b[0;34m:\u001b[0m\u001b[0;34m\u001b[0m\u001b[0m\n",
      "\u001b[0;31mKeyboardInterrupt\u001b[0m: "
     ]
    },
    {
     "name": "stderr",
     "output_type": "stream",
     "text": [
      "Process Process-30:\n",
      "Traceback (most recent call last):\n",
      "  File \"/home/ohara_lab/.pyenv/versions/anaconda3-5.3.1/lib/python3.7/multiprocessing/process.py\", line 297, in _bootstrap\n",
      "    self.run()\n",
      "  File \"/home/ohara_lab/.pyenv/versions/anaconda3-5.3.1/lib/python3.7/multiprocessing/process.py\", line 99, in run\n",
      "    self._target(*self._args, **self._kwargs)\n",
      "  File \"<ipython-input-9-3c8fc0d18f3c>\", line 10, in calc_h\n",
      "    h_count[i,0] = np.where(structure_df[structure_df['molecule_name']==m]['atom'].values=='H')[0].shape[0]\n",
      "  File \"/home/ohara_lab/.pyenv/versions/anaconda3-5.3.1/lib/python3.7/site-packages/pandas/core/ops.py\", line 1283, in wrapper\n",
      "    res = na_op(values, other)\n",
      "  File \"/home/ohara_lab/.pyenv/versions/anaconda3-5.3.1/lib/python3.7/site-packages/pandas/core/ops.py\", line 1143, in na_op\n",
      "    result = _comp_method_OBJECT_ARRAY(op, x, y)\n",
      "  File \"/home/ohara_lab/.pyenv/versions/anaconda3-5.3.1/lib/python3.7/site-packages/pandas/core/ops.py\", line 1122, in _comp_method_OBJECT_ARRAY\n",
      "    result = libops.scalar_compare(x, y, op)\n",
      "KeyboardInterrupt\n",
      "\n",
      "Process Process-21:\n",
      "Traceback (most recent call last):\n",
      "  File \"/home/ohara_lab/.pyenv/versions/anaconda3-5.3.1/lib/python3.7/multiprocessing/process.py\", line 297, in _bootstrap\n",
      "    self.run()\n",
      "  File \"/home/ohara_lab/.pyenv/versions/anaconda3-5.3.1/lib/python3.7/multiprocessing/process.py\", line 99, in run\n",
      "    self._target(*self._args, **self._kwargs)\n",
      "  File \"<ipython-input-9-3c8fc0d18f3c>\", line 7, in calc_h\n",
      "    h_count[i,0] = np.where(structure_df[structure_df['molecule_name']==m]['atom'].values=='H')[0].shape[0]\n",
      "  File \"/home/ohara_lab/.pyenv/versions/anaconda3-5.3.1/lib/python3.7/site-packages/pandas/core/ops.py\", line 1283, in wrapper\n",
      "    res = na_op(values, other)\n",
      "  File \"/home/ohara_lab/.pyenv/versions/anaconda3-5.3.1/lib/python3.7/site-packages/pandas/core/ops.py\", line 1143, in na_op\n",
      "    result = _comp_method_OBJECT_ARRAY(op, x, y)\n",
      "  File \"/home/ohara_lab/.pyenv/versions/anaconda3-5.3.1/lib/python3.7/site-packages/pandas/core/ops.py\", line 1122, in _comp_method_OBJECT_ARRAY\n",
      "    result = libops.scalar_compare(x, y, op)\n",
      "KeyboardInterrupt\n",
      "Process Process-24:\n",
      "Process Process-23:\n",
      "Traceback (most recent call last):\n",
      "Process Process-27:\n",
      "  File \"/home/ohara_lab/.pyenv/versions/anaconda3-5.3.1/lib/python3.7/multiprocessing/process.py\", line 297, in _bootstrap\n",
      "    self.run()\n",
      "  File \"/home/ohara_lab/.pyenv/versions/anaconda3-5.3.1/lib/python3.7/multiprocessing/process.py\", line 99, in run\n",
      "    self._target(*self._args, **self._kwargs)\n",
      "Traceback (most recent call last):\n",
      "Traceback (most recent call last):\n",
      "  File \"<ipython-input-9-3c8fc0d18f3c>\", line 10, in calc_h\n",
      "    h_count[i,0] = np.where(structure_df[structure_df['molecule_name']==m]['atom'].values=='H')[0].shape[0]\n",
      "  File \"/home/ohara_lab/.pyenv/versions/anaconda3-5.3.1/lib/python3.7/site-packages/pandas/core/ops.py\", line 1283, in wrapper\n",
      "    res = na_op(values, other)\n",
      "  File \"/home/ohara_lab/.pyenv/versions/anaconda3-5.3.1/lib/python3.7/multiprocessing/process.py\", line 297, in _bootstrap\n",
      "    self.run()\n",
      "  File \"/home/ohara_lab/.pyenv/versions/anaconda3-5.3.1/lib/python3.7/multiprocessing/process.py\", line 297, in _bootstrap\n",
      "    self.run()\n",
      "  File \"/home/ohara_lab/.pyenv/versions/anaconda3-5.3.1/lib/python3.7/site-packages/pandas/core/ops.py\", line 1143, in na_op\n",
      "    result = _comp_method_OBJECT_ARRAY(op, x, y)\n",
      "  File \"/home/ohara_lab/.pyenv/versions/anaconda3-5.3.1/lib/python3.7/multiprocessing/process.py\", line 99, in run\n",
      "    self._target(*self._args, **self._kwargs)\n",
      "  File \"/home/ohara_lab/.pyenv/versions/anaconda3-5.3.1/lib/python3.7/multiprocessing/process.py\", line 99, in run\n",
      "    self._target(*self._args, **self._kwargs)\n",
      "  File \"/home/ohara_lab/.pyenv/versions/anaconda3-5.3.1/lib/python3.7/site-packages/pandas/core/ops.py\", line 1122, in _comp_method_OBJECT_ARRAY\n",
      "    result = libops.scalar_compare(x, y, op)\n",
      "  File \"<ipython-input-9-3c8fc0d18f3c>\", line 10, in calc_h\n",
      "    h_count[i,0] = np.where(structure_df[structure_df['molecule_name']==m]['atom'].values=='H')[0].shape[0]\n",
      "  File \"<ipython-input-9-3c8fc0d18f3c>\", line 10, in calc_h\n",
      "    h_count[i,0] = np.where(structure_df[structure_df['molecule_name']==m]['atom'].values=='H')[0].shape[0]\n",
      "KeyboardInterrupt\n",
      "  File \"/home/ohara_lab/.pyenv/versions/anaconda3-5.3.1/lib/python3.7/site-packages/pandas/core/ops.py\", line 1283, in wrapper\n",
      "    res = na_op(values, other)\n",
      "  File \"/home/ohara_lab/.pyenv/versions/anaconda3-5.3.1/lib/python3.7/site-packages/pandas/core/ops.py\", line 1283, in wrapper\n",
      "    res = na_op(values, other)\n",
      "  File \"/home/ohara_lab/.pyenv/versions/anaconda3-5.3.1/lib/python3.7/site-packages/pandas/core/ops.py\", line 1143, in na_op\n",
      "    result = _comp_method_OBJECT_ARRAY(op, x, y)\n",
      "  File \"/home/ohara_lab/.pyenv/versions/anaconda3-5.3.1/lib/python3.7/site-packages/pandas/core/ops.py\", line 1143, in na_op\n",
      "    result = _comp_method_OBJECT_ARRAY(op, x, y)\n",
      "  File \"/home/ohara_lab/.pyenv/versions/anaconda3-5.3.1/lib/python3.7/site-packages/pandas/core/ops.py\", line 1122, in _comp_method_OBJECT_ARRAY\n",
      "    result = libops.scalar_compare(x, y, op)\n",
      "  File \"/home/ohara_lab/.pyenv/versions/anaconda3-5.3.1/lib/python3.7/site-packages/pandas/core/ops.py\", line 1122, in _comp_method_OBJECT_ARRAY\n",
      "    result = libops.scalar_compare(x, y, op)\n",
      "KeyboardInterrupt\n",
      "KeyboardInterrupt\n",
      "Process Process-26:\n",
      "Traceback (most recent call last):\n",
      "  File \"/home/ohara_lab/.pyenv/versions/anaconda3-5.3.1/lib/python3.7/multiprocessing/process.py\", line 297, in _bootstrap\n",
      "    self.run()\n",
      "  File \"/home/ohara_lab/.pyenv/versions/anaconda3-5.3.1/lib/python3.7/multiprocessing/process.py\", line 99, in run\n",
      "    self._target(*self._args, **self._kwargs)\n",
      "  File \"<ipython-input-9-3c8fc0d18f3c>\", line 10, in calc_h\n",
      "    h_count[i,0] = np.where(structure_df[structure_df['molecule_name']==m]['atom'].values=='H')[0].shape[0]\n",
      "  File \"/home/ohara_lab/.pyenv/versions/anaconda3-5.3.1/lib/python3.7/site-packages/pandas/core/ops.py\", line 1283, in wrapper\n",
      "    res = na_op(values, other)\n",
      "  File \"/home/ohara_lab/.pyenv/versions/anaconda3-5.3.1/lib/python3.7/site-packages/pandas/core/ops.py\", line 1143, in na_op\n",
      "    result = _comp_method_OBJECT_ARRAY(op, x, y)\n",
      "  File \"/home/ohara_lab/.pyenv/versions/anaconda3-5.3.1/lib/python3.7/site-packages/pandas/core/ops.py\", line 1122, in _comp_method_OBJECT_ARRAY\n",
      "    result = libops.scalar_compare(x, y, op)\n",
      "KeyboardInterrupt\n",
      "Process Process-25:\n",
      "Traceback (most recent call last):\n",
      "  File \"/home/ohara_lab/.pyenv/versions/anaconda3-5.3.1/lib/python3.7/multiprocessing/process.py\", line 297, in _bootstrap\n",
      "    self.run()\n",
      "  File \"/home/ohara_lab/.pyenv/versions/anaconda3-5.3.1/lib/python3.7/multiprocessing/process.py\", line 99, in run\n",
      "    self._target(*self._args, **self._kwargs)\n",
      "  File \"<ipython-input-9-3c8fc0d18f3c>\", line 10, in calc_h\n",
      "    h_count[i,0] = np.where(structure_df[structure_df['molecule_name']==m]['atom'].values=='H')[0].shape[0]\n",
      "  File \"/home/ohara_lab/.pyenv/versions/anaconda3-5.3.1/lib/python3.7/site-packages/pandas/core/ops.py\", line 1283, in wrapper\n",
      "    res = na_op(values, other)\n",
      "  File \"/home/ohara_lab/.pyenv/versions/anaconda3-5.3.1/lib/python3.7/site-packages/pandas/core/ops.py\", line 1143, in na_op\n",
      "    result = _comp_method_OBJECT_ARRAY(op, x, y)\n",
      "  File \"/home/ohara_lab/.pyenv/versions/anaconda3-5.3.1/lib/python3.7/site-packages/pandas/core/ops.py\", line 1122, in _comp_method_OBJECT_ARRAY\n",
      "    result = libops.scalar_compare(x, y, op)\n",
      "KeyboardInterrupt\n",
      "Process Process-22:\n",
      "Traceback (most recent call last):\n",
      "  File \"/home/ohara_lab/.pyenv/versions/anaconda3-5.3.1/lib/python3.7/multiprocessing/process.py\", line 297, in _bootstrap\n",
      "    self.run()\n",
      "  File \"/home/ohara_lab/.pyenv/versions/anaconda3-5.3.1/lib/python3.7/multiprocessing/process.py\", line 99, in run\n",
      "    self._target(*self._args, **self._kwargs)\n",
      "  File \"<ipython-input-9-3c8fc0d18f3c>\", line 10, in calc_h\n",
      "    h_count[i,0] = np.where(structure_df[structure_df['molecule_name']==m]['atom'].values=='H')[0].shape[0]\n",
      "  File \"/home/ohara_lab/.pyenv/versions/anaconda3-5.3.1/lib/python3.7/site-packages/pandas/core/ops.py\", line 1283, in wrapper\n",
      "    res = na_op(values, other)\n",
      "  File \"/home/ohara_lab/.pyenv/versions/anaconda3-5.3.1/lib/python3.7/site-packages/pandas/core/ops.py\", line 1143, in na_op\n",
      "    result = _comp_method_OBJECT_ARRAY(op, x, y)\n"
     ]
    },
    {
     "name": "stderr",
     "output_type": "stream",
     "text": [
      "  File \"/home/ohara_lab/.pyenv/versions/anaconda3-5.3.1/lib/python3.7/site-packages/pandas/core/ops.py\", line 1122, in _comp_method_OBJECT_ARRAY\n",
      "    result = libops.scalar_compare(x, y, op)\n",
      "KeyboardInterrupt\n",
      "Process Process-29:\n",
      "Traceback (most recent call last):\n",
      "  File \"/home/ohara_lab/.pyenv/versions/anaconda3-5.3.1/lib/python3.7/multiprocessing/process.py\", line 297, in _bootstrap\n",
      "    self.run()\n",
      "  File \"/home/ohara_lab/.pyenv/versions/anaconda3-5.3.1/lib/python3.7/multiprocessing/process.py\", line 99, in run\n",
      "    self._target(*self._args, **self._kwargs)\n",
      "Process Process-28:\n",
      "  File \"<ipython-input-9-3c8fc0d18f3c>\", line 10, in calc_h\n",
      "    h_count[i,0] = np.where(structure_df[structure_df['molecule_name']==m]['atom'].values=='H')[0].shape[0]\n",
      "  File \"/home/ohara_lab/.pyenv/versions/anaconda3-5.3.1/lib/python3.7/site-packages/pandas/core/ops.py\", line 1283, in wrapper\n",
      "    res = na_op(values, other)\n",
      "  File \"/home/ohara_lab/.pyenv/versions/anaconda3-5.3.1/lib/python3.7/site-packages/pandas/core/ops.py\", line 1143, in na_op\n",
      "    result = _comp_method_OBJECT_ARRAY(op, x, y)\n",
      "Traceback (most recent call last):\n",
      "  File \"/home/ohara_lab/.pyenv/versions/anaconda3-5.3.1/lib/python3.7/site-packages/pandas/core/ops.py\", line 1122, in _comp_method_OBJECT_ARRAY\n",
      "    result = libops.scalar_compare(x, y, op)\n",
      "  File \"/home/ohara_lab/.pyenv/versions/anaconda3-5.3.1/lib/python3.7/multiprocessing/process.py\", line 297, in _bootstrap\n",
      "    self.run()\n",
      "KeyboardInterrupt\n",
      "  File \"/home/ohara_lab/.pyenv/versions/anaconda3-5.3.1/lib/python3.7/multiprocessing/process.py\", line 99, in run\n",
      "    self._target(*self._args, **self._kwargs)\n",
      "  File \"<ipython-input-9-3c8fc0d18f3c>\", line 10, in calc_h\n",
      "    h_count[i,0] = np.where(structure_df[structure_df['molecule_name']==m]['atom'].values=='H')[0].shape[0]\n",
      "  File \"/home/ohara_lab/.pyenv/versions/anaconda3-5.3.1/lib/python3.7/site-packages/pandas/core/ops.py\", line 1283, in wrapper\n",
      "    res = na_op(values, other)\n",
      "  File \"/home/ohara_lab/.pyenv/versions/anaconda3-5.3.1/lib/python3.7/site-packages/pandas/core/ops.py\", line 1143, in na_op\n",
      "    result = _comp_method_OBJECT_ARRAY(op, x, y)\n",
      "  File \"/home/ohara_lab/.pyenv/versions/anaconda3-5.3.1/lib/python3.7/site-packages/pandas/core/ops.py\", line 1122, in _comp_method_OBJECT_ARRAY\n",
      "    result = libops.scalar_compare(x, y, op)\n",
      "KeyboardInterrupt\n"
     ]
    }
   ],
   "source": [
    "p_jobs = []\n",
    "pipes = []\n",
    "for i in range(jobs):\n",
    "    get_rev, send_rev = Pipe()\n",
    "    p = Process(target=calc_h, args=(i,send_rev))\n",
    "    pipes.append(get_rev)\n",
    "    p_jobs.append(p)\n",
    "    p.start()\n",
    "    \n",
    "h_num = [x.recv() for x in pipes]\n",
    "\n",
    "for p in p_jobs:\n",
    "    p.join()\n",
    "\n",
    "h_num = np.concatenate(num)"
   ]
  },
  {
   "cell_type": "code",
   "execution_count": null,
   "metadata": {},
   "outputs": [],
   "source": [
    "c = 0\n",
    "stock = train_df.values[0,1]\n",
    "result= np.zeros((len(train_df),1))\n",
    "for i,row in tqdm(train_df.iterrows(),total=len(train_df)):\n",
    "    if stock!=row[1]:\n",
    "        c += 1\n",
    "        result[i,0] = h_num[c,0]\n",
    "        stock=row['molecule_name']\n",
    "    else:\n",
    "        result[i,0] = h_num[c,0]"
   ]
  },
  {
   "cell_type": "code",
   "execution_count": null,
   "metadata": {},
   "outputs": [],
   "source": [
    "pd.to_pickle(result,'h_num.pkl')"
   ]
  }
 ],
 "metadata": {
  "kernelspec": {
   "display_name": "Python 3",
   "language": "python",
   "name": "python3"
  },
  "language_info": {
   "codemirror_mode": {
    "name": "ipython",
    "version": 3
   },
   "file_extension": ".py",
   "mimetype": "text/x-python",
   "name": "python",
   "nbconvert_exporter": "python",
   "pygments_lexer": "ipython3",
   "version": "3.7.0"
  }
 },
 "nbformat": 4,
 "nbformat_minor": 2
}
